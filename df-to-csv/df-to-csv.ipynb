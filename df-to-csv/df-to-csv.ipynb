{
 "cells": [
  {
   "cell_type": "code",
   "execution_count": 2,
   "metadata": {},
   "outputs": [],
   "source": [
    "import glob\n",
    "import json\n",
    "import pandas as pd\n",
    "import numpy as np\n",
    "import os\n",
    "from pprint import pprint as pp"
   ]
  },
  {
   "cell_type": "code",
   "execution_count": null,
   "metadata": {},
   "outputs": [],
   "source": [
    "import sys\n",
    "myargs = sys.argv\n",
    "if '-f' in myargs:\n",
    "    try: FILE_NAME = myargs[2]\n",
    "    except Exception as e:\n",
    "        print(e)\n",
    "        FILE_NAME = 'template'\n",
    "else:\n",
    "    FILE_NAME = 'template'"
   ]
  },
  {
   "cell_type": "code",
   "execution_count": null,
   "metadata": {},
   "outputs": [],
   "source": [
    "os.system(\"rm -rf ./template\")\n",
    "os.system(\"unzip template.zip -d template\")\n",
    "os.system(\"tree\")"
   ]
  },
  {
   "cell_type": "code",
   "execution_count": null,
   "metadata": {},
   "outputs": [],
   "source": [
    "files = sorted([intent for intent in glob.glob('template/intents/*.json')])\n",
    "# files.remove('template/intents/Default Fallback Intent.json')\n",
    "# files.remove('template/intents/consideration-no_usersays_en.json')"
   ]
  },
  {
   "cell_type": "code",
   "execution_count": null,
   "metadata": {},
   "outputs": [],
   "source": [
    "# does not assume that all intents have usersays\n",
    "# assume English only\n",
    "intent_hold = \"none\" \n",
    "intent_jsons = []\n",
    "for file in files:\n",
    "    intent_name = file.rpartition('.')[0]\n",
    "    if not intent_name.startswith(intent_hold):\n",
    "        intent_jsons.append([file])\n",
    "        intent_hold = intent_name\n",
    "    else:\n",
    "        intent_jsons[-1].append(file)"
   ]
  },
  {
   "cell_type": "code",
   "execution_count": null,
   "metadata": {},
   "outputs": [],
   "source": [
    "intents = []\n",
    "for intent_json in intent_jsons:\n",
    "    try:\n",
    "        intent = {}\n",
    "        intent_info_json = intent_json[0]\n",
    "        usersays_jsons = intent_json[1:] # should be one only\n",
    "\n",
    "        with open(intent_info_json, encoding=\"utf-8\") as f:\n",
    "            intent_info = json.load(f)\n",
    "        intent[\"INTENT_NAME\"] = intent_info[\"name\"]\n",
    "        intent[\"INPUT_CONTEXT\"] = intent_info[\"contexts\"]\n",
    "        intent[\"OUTPUT_CONTEXT\"] = [str(c[\"lifespan\"]) + \", \" + str(c[\"name\"])  \n",
    "                                    for c in intent_info[\"responses\"][0][\"affectedContexts\"]]\n",
    "\n",
    "        response_list_or_str = intent_info[\"responses\"][0][\"messages\"][0][\"speech\"]\n",
    "        if type(response_list_or_str) == str:\n",
    "            intent[\"RESPONSES\"] = [response_list_or_str]\n",
    "        else: \n",
    "            intent[\"RESPONSES\"] = [m for m in response_list_or_str]\n",
    "\n",
    "        intent[\"USER_SAYS\"] = []\n",
    "        for usersays_json in usersays_jsons: # should be one or none\n",
    "            with open(usersays_json) as f:\n",
    "                usersays_info = json.load(f)\n",
    "            for usersay in usersays_info:\n",
    "                intent[\"USER_SAYS\"].append(usersay[\"data\"][0][\"text\"])\n",
    "        intents.append(intent)\n",
    "    #     pp(intent_info)\n",
    "    #     break\n",
    "    except:\n",
    "        pass"
   ]
  },
  {
   "cell_type": "code",
   "execution_count": null,
   "metadata": {},
   "outputs": [],
   "source": [
    "intents"
   ]
  },
  {
   "cell_type": "code",
   "execution_count": null,
   "metadata": {},
   "outputs": [],
   "source": [
    "len_INPUT_CONTEXT = max([len(intent[\"INPUT_CONTEXT\"]) for intent in intents]+[1])\n",
    "len_OUTPUT_CONTEXT = max([len(intent[\"OUTPUT_CONTEXT\"]) for intent in intents]+[1])\n",
    "len_USER_SAYS = max([len(intent[\"USER_SAYS\"]) for intent in intents]+[1])\n",
    "len_RESPONSES = max([len(intent[\"RESPONSES\"]) for intent in intents]+[1])\n",
    "lengths = [1, len_INPUT_CONTEXT, len_INPUT_CONTEXT, len_USER_SAYS, len_RESPONSES]"
   ]
  },
  {
   "cell_type": "code",
   "execution_count": null,
   "metadata": {},
   "outputs": [],
   "source": [
    "row_length = sum(lengths)\n",
    "columns = [\"\"]*row_length\n",
    "columns[0] = \"INTENT_NAME\"\n",
    "columns[sum(lengths[:1])] = \"INPUT_CONTEXT\"\n",
    "columns[sum(lengths[:2])] = \"OUTPUT_CONTEXT\"\n",
    "columns[sum(lengths[:3])] = \"USER_SAYS\"\n",
    "columns[sum(lengths[:4])] = \"RESPONSES\""
   ]
  },
  {
   "cell_type": "code",
   "execution_count": null,
   "metadata": {},
   "outputs": [],
   "source": [
    "row_list = []\n",
    "for intent in intents:\n",
    "    row = [np.nan]*row_length\n",
    "    row[0] = intent[\"INTENT_NAME\"]\n",
    "    row[sum(lengths[:1]):sum(lengths[:1])+len(intent[\"INPUT_CONTEXT\"])] = intent[\"INPUT_CONTEXT\"]\n",
    "    row[sum(lengths[:2]):sum(lengths[:2])+len(intent[\"OUTPUT_CONTEXT\"])] = intent[\"OUTPUT_CONTEXT\"]\n",
    "    row[sum(lengths[:3]):sum(lengths[:3])+len(intent[\"USER_SAYS\"])] = intent[\"USER_SAYS\"]\n",
    "    row[sum(lengths[:4]):sum(lengths[:4])+len(intent[\"RESPONSES\"])] = intent[\"RESPONSES\"]\n",
    "    row_list.append(row)"
   ]
  },
  {
   "cell_type": "code",
   "execution_count": null,
   "metadata": {},
   "outputs": [],
   "source": [
    "df = pd.DataFrame(row_list, columns=columns)\n",
    "df"
   ]
  },
  {
   "cell_type": "code",
   "execution_count": null,
   "metadata": {},
   "outputs": [],
   "source": [
    "df.to_csv(\"template.csv\")"
   ]
  },
  {
   "cell_type": "code",
   "execution_count": 32,
   "metadata": {},
   "outputs": [
    {
     "name": "stdout",
     "output_type": "stream",
     "text": [
      "[NbConvertApp] Converting notebook df-to-csv.ipynb to script\n",
      "[NbConvertApp] Writing 3621 bytes to df-to-csv.py\n"
     ]
    },
    {
     "data": {
      "text/plain": [
       "0"
      ]
     },
     "execution_count": 32,
     "metadata": {},
     "output_type": "execute_result"
    }
   ],
   "source": [
    "# convert this notebook into a python script\n",
    "# and then remove the last few lines\n",
    "# get_ipython().system('jupyter nbconvert --to script df-to-csv.ipynb')\n",
    "# os.system(\"ex -snc '$-11,$d|x' df-to-csv.py\")"
   ]
  },
  {
   "cell_type": "code",
   "execution_count": 29,
   "metadata": {},
   "outputs": [
    {
     "data": {
      "text/plain": [
       "0"
      ]
     },
     "execution_count": 29,
     "metadata": {},
     "output_type": "execute_result"
    }
   ],
   "source": []
  }
 ],
 "metadata": {
  "kernelspec": {
   "display_name": "Python 3",
   "language": "python",
   "name": "python3"
  },
  "language_info": {
   "codemirror_mode": {
    "name": "ipython",
    "version": 3
   },
   "file_extension": ".py",
   "mimetype": "text/x-python",
   "name": "python",
   "nbconvert_exporter": "python",
   "pygments_lexer": "ipython3",
   "version": "3.5.2"
  }
 },
 "nbformat": 4,
 "nbformat_minor": 2
}
